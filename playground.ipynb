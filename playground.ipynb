{
 "cells": [
  {
   "cell_type": "code",
   "execution_count": 50,
   "id": "19bde049-69a9-4308-bc21-70467f5412ab",
   "metadata": {},
   "outputs": [],
   "source": [
    "import matplotlib.pyplot as plt\n",
    "import pandas as pd\n",
    "import seaborn as sns\n",
    "from dotenv import load_dotenv\n",
    "\n",
    "from db_reader import retrieve_listings, retrieve_leases\n",
    "\n",
    "load_dotenv()  # load the required SnowFlake ENV variables\n",
    "sns.set_style(\"whitegrid\")"
   ]
  },
  {
   "cell_type": "code",
   "execution_count": 2,
   "id": "75a84924-48f4-4235-bec3-d012b01381c8",
   "metadata": {},
   "outputs": [],
   "source": [
    "df = retrieve_listings()"
   ]
  },
  {
   "cell_type": "code",
   "execution_count": 3,
   "id": "6c321011-89ef-4d3a-a132-9fcb41d2977a",
   "metadata": {},
   "outputs": [
    {
     "data": {
      "text/html": [
       "<div>\n",
       "<style scoped>\n",
       "    .dataframe tbody tr th:only-of-type {\n",
       "        vertical-align: middle;\n",
       "    }\n",
       "\n",
       "    .dataframe tbody tr th {\n",
       "        vertical-align: top;\n",
       "    }\n",
       "\n",
       "    .dataframe thead th {\n",
       "        text-align: right;\n",
       "    }\n",
       "</style>\n",
       "<table border=\"1\" class=\"dataframe\">\n",
       "  <thead>\n",
       "    <tr style=\"text-align: right;\">\n",
       "      <th></th>\n",
       "      <th>listing_id</th>\n",
       "      <th>bedrooms</th>\n",
       "      <th>bathrooms</th>\n",
       "      <th>sqft_livable</th>\n",
       "      <th>monthly_price</th>\n",
       "    </tr>\n",
       "  </thead>\n",
       "  <tbody>\n",
       "    <tr>\n",
       "      <th>0</th>\n",
       "      <td>823</td>\n",
       "      <td>1</td>\n",
       "      <td>1.5</td>\n",
       "      <td>751.0</td>\n",
       "      <td>3988</td>\n",
       "    </tr>\n",
       "    <tr>\n",
       "      <th>1</th>\n",
       "      <td>816</td>\n",
       "      <td>1</td>\n",
       "      <td>1.0</td>\n",
       "      <td>543.0</td>\n",
       "      <td>3613</td>\n",
       "    </tr>\n",
       "    <tr>\n",
       "      <th>2</th>\n",
       "      <td>141</td>\n",
       "      <td>2</td>\n",
       "      <td>1.0</td>\n",
       "      <td>1000.0</td>\n",
       "      <td>4187</td>\n",
       "    </tr>\n",
       "    <tr>\n",
       "      <th>3</th>\n",
       "      <td>1969</td>\n",
       "      <td>2</td>\n",
       "      <td>2.0</td>\n",
       "      <td>1208.0</td>\n",
       "      <td>5750</td>\n",
       "    </tr>\n",
       "    <tr>\n",
       "      <th>4</th>\n",
       "      <td>4946</td>\n",
       "      <td>2</td>\n",
       "      <td>2.0</td>\n",
       "      <td>925.0</td>\n",
       "      <td>1189</td>\n",
       "    </tr>\n",
       "  </tbody>\n",
       "</table>\n",
       "</div>"
      ],
      "text/plain": [
       "   listing_id  bedrooms  bathrooms  sqft_livable  monthly_price\n",
       "0         823         1        1.5         751.0           3988\n",
       "1         816         1        1.0         543.0           3613\n",
       "2         141         2        1.0        1000.0           4187\n",
       "3        1969         2        2.0        1208.0           5750\n",
       "4        4946         2        2.0         925.0           1189"
      ]
     },
     "execution_count": 3,
     "metadata": {},
     "output_type": "execute_result"
    }
   ],
   "source": [
    "df.head()"
   ]
  },
  {
   "cell_type": "code",
   "execution_count": 4,
   "id": "9cadcce1-0455-4b3e-b795-e5e3d3225f9c",
   "metadata": {},
   "outputs": [
    {
     "data": {
      "text/plain": [
       "Index(['listing_id', 'bedrooms', 'bathrooms', 'sqft_livable', 'monthly_price'], dtype='object')"
      ]
     },
     "execution_count": 4,
     "metadata": {},
     "output_type": "execute_result"
    }
   ],
   "source": [
    "df.columns"
   ]
  },
  {
   "cell_type": "code",
   "execution_count": 5,
   "id": "bb8df8e5-8327-4978-b49f-c2fcf57d0d6d",
   "metadata": {},
   "outputs": [
    {
     "data": {
      "text/plain": [
       "1    1107\n",
       "2     748\n",
       "0     406\n",
       "3     164\n",
       "4      31\n",
       "5       3\n",
       "Name: bedrooms, dtype: int64"
      ]
     },
     "execution_count": 5,
     "metadata": {},
     "output_type": "execute_result"
    }
   ],
   "source": [
    "df.bedrooms.value_counts()"
   ]
  },
  {
   "cell_type": "code",
   "execution_count": 6,
   "id": "cf2b2f21-fdbb-4d0d-83be-781f41707e07",
   "metadata": {},
   "outputs": [
    {
     "data": {
      "text/plain": [
       "count    2459.000000\n",
       "mean        1.315169\n",
       "std         0.877516\n",
       "min         0.000000\n",
       "25%         1.000000\n",
       "50%         1.000000\n",
       "75%         2.000000\n",
       "max         5.000000\n",
       "Name: bedrooms, dtype: float64"
      ]
     },
     "execution_count": 6,
     "metadata": {},
     "output_type": "execute_result"
    }
   ],
   "source": [
    "df.bedrooms.describe()"
   ]
  },
  {
   "cell_type": "markdown",
   "id": "f7ba39db-f055-4565-a7d7-7258d1678773",
   "metadata": {},
   "source": [
    "# Visualisations"
   ]
  },
  {
   "cell_type": "code",
   "execution_count": 7,
   "id": "83ab570f-8878-47ed-ab8a-ea489f0e9c70",
   "metadata": {},
   "outputs": [
    {
     "data": {
      "image/png": "[encoded data removed]",
      "text/plain": [
       "<Figure size 432x288 with 1 Axes>"
      ]
     },
     "metadata": {
      "needs_background": "light"
     },
     "output_type": "display_data"
    }
   ],
   "source": [
    "sns.countplot(x='bedrooms', data=df)\n",
    "sns.despine()  # Remove the top and right spines from plot(s)\n",
    "plt.tight_layout()"
   ]
  },
  {
   "cell_type": "code",
   "execution_count": 8,
   "id": "3759c26a-73cd-46db-8655-13d4654166f5",
   "metadata": {},
   "outputs": [
    {
     "data": {
      "image/png": "[encoded data removed]",
      "text/plain": [
       "<Figure size 576x576 with 3 Axes>"
      ]
     },
     "metadata": {
      "needs_background": "light"
     },
     "output_type": "display_data"
    }
   ],
   "source": [
    "sns.jointplot(\n",
    "    x='sqft_livable',\n",
    "    y='monthly_price',\n",
    "    data=df,\n",
    "    height=8,\n",
    "    alpha=.25,\n",
    "    color='k',\n",
    "    marker='.'\n",
    ")\n",
    "plt.tight_layout()"
   ]
  },
  {
   "cell_type": "markdown",
   "id": "9b8a4094-85f2-4be1-82fe-334820283260",
   "metadata": {},
   "source": [
    "### Remove Outliers By Filtering"
   ]
  },
  {
   "cell_type": "code",
   "execution_count": 9,
   "id": "c30965cc-24c9-424e-ac73-14e8c20b440f",
   "metadata": {},
   "outputs": [],
   "source": [
    "below_10k_price_mask = df.monthly_price < 10000\n",
    "below_4k_sqft_mask = df.sqft_livable < 4000\n",
    "df_filtered = df[below_10k_price_mask & below_4k_sqft_mask]"
   ]
  },
  {
   "cell_type": "code",
   "execution_count": 52,
   "id": "317028cb-1043-4539-887a-85adb10037e7",
   "metadata": {},
   "outputs": [
    {
     "data": {
      "image/png": "[encoded data removed]",
      "text/plain": [
       "<Figure size 576x576 with 3 Axes>"
      ]
     },
     "metadata": {},
     "output_type": "display_data"
    }
   ],
   "source": [
    "sns.jointplot(\n",
    "    x='sqft_livable',\n",
    "    y='monthly_price',\n",
    "    data=df_filtered,\n",
    "    height=8,\n",
    "    alpha=.25,\n",
    "    color='k',\n",
    "    marker='.'\n",
    ")\n",
    "plt.tight_layout()"
   ]
  },
  {
   "cell_type": "markdown",
   "id": "df1034d0-1d54-4d48-8b2f-0060f211dfc6",
   "metadata": {},
   "source": [
    "### Joining With Other Tables"
   ]
  },
  {
   "cell_type": "code",
   "execution_count": 11,
   "id": "d130e973-5497-4ad3-99b8-335c83485249",
   "metadata": {},
   "outputs": [],
   "source": [
    "leases_df = retrieve_leases()"
   ]
  },
  {
   "cell_type": "code",
   "execution_count": 12,
   "id": "93414995-1c42-4c86-88c6-633c78587305",
   "metadata": {},
   "outputs": [],
   "source": [
    "listings_df = df  # using a more descriptive variable name"
   ]
  },
  {
   "cell_type": "code",
   "execution_count": 16,
   "id": "20d5586e-6be7-4167-ba7a-79f7b8782efb",
   "metadata": {},
   "outputs": [],
   "source": [
    "listings_leases_df = pd.merge(\n",
    "    left=listings_df,\n",
    "    right=leases_df,\n",
    "    on='listing_id'\n",
    "#     left_on='listing_id',\n",
    "#     right_on='listing_id',\n",
    ")"
   ]
  },
  {
   "cell_type": "code",
   "execution_count": 17,
   "id": "6054de5a-d6ff-4713-9897-5b3a8d21064f",
   "metadata": {},
   "outputs": [
    {
     "data": {
      "text/html": [
       "<div>\n",
       "<style scoped>\n",
       "    .dataframe tbody tr th:only-of-type {\n",
       "        vertical-align: middle;\n",
       "    }\n",
       "\n",
       "    .dataframe tbody tr th {\n",
       "        vertical-align: top;\n",
       "    }\n",
       "\n",
       "    .dataframe thead th {\n",
       "        text-align: right;\n",
       "    }\n",
       "</style>\n",
       "<table border=\"1\" class=\"dataframe\">\n",
       "  <thead>\n",
       "    <tr style=\"text-align: right;\">\n",
       "      <th></th>\n",
       "      <th>listing_id</th>\n",
       "      <th>bedrooms</th>\n",
       "      <th>bathrooms</th>\n",
       "      <th>sqft_livable</th>\n",
       "      <th>monthly_price</th>\n",
       "      <th>lease_start</th>\n",
       "      <th>lease_end</th>\n",
       "      <th>status</th>\n",
       "    </tr>\n",
       "  </thead>\n",
       "  <tbody>\n",
       "    <tr>\n",
       "      <th>0</th>\n",
       "      <td>823</td>\n",
       "      <td>1</td>\n",
       "      <td>1.5</td>\n",
       "      <td>751.0</td>\n",
       "      <td>3988</td>\n",
       "      <td>2020-12-29</td>\n",
       "      <td>2021-03-31</td>\n",
       "      <td>approved</td>\n",
       "    </tr>\n",
       "    <tr>\n",
       "      <th>1</th>\n",
       "      <td>823</td>\n",
       "      <td>1</td>\n",
       "      <td>1.5</td>\n",
       "      <td>751.0</td>\n",
       "      <td>3988</td>\n",
       "      <td>2021-03-31</td>\n",
       "      <td>2021-05-31</td>\n",
       "      <td>approved</td>\n",
       "    </tr>\n",
       "    <tr>\n",
       "      <th>2</th>\n",
       "      <td>823</td>\n",
       "      <td>1</td>\n",
       "      <td>1.5</td>\n",
       "      <td>751.0</td>\n",
       "      <td>3988</td>\n",
       "      <td>2020-11-14</td>\n",
       "      <td>2020-12-14</td>\n",
       "      <td>approved</td>\n",
       "    </tr>\n",
       "    <tr>\n",
       "      <th>3</th>\n",
       "      <td>823</td>\n",
       "      <td>1</td>\n",
       "      <td>1.5</td>\n",
       "      <td>751.0</td>\n",
       "      <td>3988</td>\n",
       "      <td>2020-01-20</td>\n",
       "      <td>2020-01-24</td>\n",
       "      <td>approved</td>\n",
       "    </tr>\n",
       "    <tr>\n",
       "      <th>4</th>\n",
       "      <td>823</td>\n",
       "      <td>1</td>\n",
       "      <td>1.5</td>\n",
       "      <td>751.0</td>\n",
       "      <td>3988</td>\n",
       "      <td>2019-11-10</td>\n",
       "      <td>2019-12-15</td>\n",
       "      <td>approved</td>\n",
       "    </tr>\n",
       "  </tbody>\n",
       "</table>\n",
       "</div>"
      ],
      "text/plain": [
       "   listing_id  bedrooms  bathrooms  sqft_livable  monthly_price lease_start  \\\n",
       "0         823         1        1.5         751.0           3988  2020-12-29   \n",
       "1         823         1        1.5         751.0           3988  2021-03-31   \n",
       "2         823         1        1.5         751.0           3988  2020-11-14   \n",
       "3         823         1        1.5         751.0           3988  2020-01-20   \n",
       "4         823         1        1.5         751.0           3988  2019-11-10   \n",
       "\n",
       "    lease_end    status  \n",
       "0  2021-03-31  approved  \n",
       "1  2021-05-31  approved  \n",
       "2  2020-12-14  approved  \n",
       "3  2020-01-24  approved  \n",
       "4  2019-12-15  approved  "
      ]
     },
     "execution_count": 17,
     "metadata": {},
     "output_type": "execute_result"
    }
   ],
   "source": [
    "listings_leases_df.head()"
   ]
  },
  {
   "cell_type": "code",
   "execution_count": null,
   "id": "d62803d2-978a-40cd-b3a7-e7ff27597bcc",
   "metadata": {},
   "outputs": [],
   "source": []
  },
  {
   "cell_type": "code",
   "execution_count": 22,
   "id": "05c9ed4d-aaa3-42d7-8644-7376b2a61bec",
   "metadata": {},
   "outputs": [],
   "source": [
    "listings_leases_df.lease_start = pd.to_datetime(listings_leases_df.lease_start)"
   ]
  },
  {
   "cell_type": "code",
   "execution_count": 30,
   "id": "345ed94f-17c6-435a-8654-e690e6145788",
   "metadata": {},
   "outputs": [],
   "source": [
    "listings_leases_df['lease_start_month'] = listings_leases_df.lease_start.values.astype('<M8[M]')"
   ]
  },
  {
   "cell_type": "code",
   "execution_count": 73,
   "id": "53178fa1-1355-478e-9aee-a1fc547dd245",
   "metadata": {},
   "outputs": [],
   "source": [
    "leases_by_month = listings_leases_df.groupby(['lease_start_month', 'bedrooms']).count()"
   ]
  },
  {
   "cell_type": "code",
   "execution_count": 74,
   "id": "b52430c5-cb60-4048-8a4b-a02f1d6068e6",
   "metadata": {},
   "outputs": [],
   "source": [
    "leases_by_month = leases_by_month.reset_index()"
   ]
  },
  {
   "cell_type": "code",
   "execution_count": 75,
   "id": "0ad53c4a-cf16-4f2a-873c-0f6e1992b4b2",
   "metadata": {},
   "outputs": [
    {
     "data": {
      "text/html": [
       "<div>\n",
       "<style scoped>\n",
       "    .dataframe tbody tr th:only-of-type {\n",
       "        vertical-align: middle;\n",
       "    }\n",
       "\n",
       "    .dataframe tbody tr th {\n",
       "        vertical-align: top;\n",
       "    }\n",
       "\n",
       "    .dataframe thead th {\n",
       "        text-align: right;\n",
       "    }\n",
       "</style>\n",
       "<table border=\"1\" class=\"dataframe\">\n",
       "  <thead>\n",
       "    <tr style=\"text-align: right;\">\n",
       "      <th></th>\n",
       "      <th>lease_start_month</th>\n",
       "      <th>bedrooms</th>\n",
       "      <th>listing_id</th>\n",
       "      <th>bathrooms</th>\n",
       "      <th>sqft_livable</th>\n",
       "      <th>monthly_price</th>\n",
       "      <th>lease_start</th>\n",
       "      <th>lease_end</th>\n",
       "      <th>status</th>\n",
       "    </tr>\n",
       "  </thead>\n",
       "  <tbody>\n",
       "    <tr>\n",
       "      <th>0</th>\n",
       "      <td>2015-12-01</td>\n",
       "      <td>3</td>\n",
       "      <td>1</td>\n",
       "      <td>1</td>\n",
       "      <td>1</td>\n",
       "      <td>1</td>\n",
       "      <td>1</td>\n",
       "      <td>1</td>\n",
       "      <td>1</td>\n",
       "    </tr>\n",
       "    <tr>\n",
       "      <th>1</th>\n",
       "      <td>2016-01-01</td>\n",
       "      <td>3</td>\n",
       "      <td>1</td>\n",
       "      <td>1</td>\n",
       "      <td>1</td>\n",
       "      <td>1</td>\n",
       "      <td>1</td>\n",
       "      <td>1</td>\n",
       "      <td>1</td>\n",
       "    </tr>\n",
       "    <tr>\n",
       "      <th>2</th>\n",
       "      <td>2016-04-01</td>\n",
       "      <td>3</td>\n",
       "      <td>1</td>\n",
       "      <td>1</td>\n",
       "      <td>1</td>\n",
       "      <td>1</td>\n",
       "      <td>1</td>\n",
       "      <td>1</td>\n",
       "      <td>1</td>\n",
       "    </tr>\n",
       "    <tr>\n",
       "      <th>3</th>\n",
       "      <td>2016-05-01</td>\n",
       "      <td>3</td>\n",
       "      <td>5</td>\n",
       "      <td>5</td>\n",
       "      <td>5</td>\n",
       "      <td>5</td>\n",
       "      <td>5</td>\n",
       "      <td>5</td>\n",
       "      <td>5</td>\n",
       "    </tr>\n",
       "    <tr>\n",
       "      <th>4</th>\n",
       "      <td>2016-06-01</td>\n",
       "      <td>2</td>\n",
       "      <td>1</td>\n",
       "      <td>1</td>\n",
       "      <td>1</td>\n",
       "      <td>1</td>\n",
       "      <td>1</td>\n",
       "      <td>1</td>\n",
       "      <td>1</td>\n",
       "    </tr>\n",
       "    <tr>\n",
       "      <th>...</th>\n",
       "      <td>...</td>\n",
       "      <td>...</td>\n",
       "      <td>...</td>\n",
       "      <td>...</td>\n",
       "      <td>...</td>\n",
       "      <td>...</td>\n",
       "      <td>...</td>\n",
       "      <td>...</td>\n",
       "      <td>...</td>\n",
       "    </tr>\n",
       "    <tr>\n",
       "      <th>321</th>\n",
       "      <td>2021-08-01</td>\n",
       "      <td>3</td>\n",
       "      <td>3</td>\n",
       "      <td>3</td>\n",
       "      <td>3</td>\n",
       "      <td>3</td>\n",
       "      <td>3</td>\n",
       "      <td>3</td>\n",
       "      <td>3</td>\n",
       "    </tr>\n",
       "    <tr>\n",
       "      <th>322</th>\n",
       "      <td>2021-09-01</td>\n",
       "      <td>2</td>\n",
       "      <td>3</td>\n",
       "      <td>3</td>\n",
       "      <td>3</td>\n",
       "      <td>3</td>\n",
       "      <td>3</td>\n",
       "      <td>3</td>\n",
       "      <td>3</td>\n",
       "    </tr>\n",
       "    <tr>\n",
       "      <th>323</th>\n",
       "      <td>2021-10-01</td>\n",
       "      <td>1</td>\n",
       "      <td>1</td>\n",
       "      <td>1</td>\n",
       "      <td>1</td>\n",
       "      <td>1</td>\n",
       "      <td>1</td>\n",
       "      <td>1</td>\n",
       "      <td>1</td>\n",
       "    </tr>\n",
       "    <tr>\n",
       "      <th>324</th>\n",
       "      <td>2021-11-01</td>\n",
       "      <td>1</td>\n",
       "      <td>1</td>\n",
       "      <td>1</td>\n",
       "      <td>1</td>\n",
       "      <td>1</td>\n",
       "      <td>1</td>\n",
       "      <td>1</td>\n",
       "      <td>1</td>\n",
       "    </tr>\n",
       "    <tr>\n",
       "      <th>325</th>\n",
       "      <td>2022-01-01</td>\n",
       "      <td>2</td>\n",
       "      <td>1</td>\n",
       "      <td>1</td>\n",
       "      <td>1</td>\n",
       "      <td>1</td>\n",
       "      <td>1</td>\n",
       "      <td>1</td>\n",
       "      <td>1</td>\n",
       "    </tr>\n",
       "  </tbody>\n",
       "</table>\n",
       "<p>326 rows × 9 columns</p>\n",
       "</div>"
      ],
      "text/plain": [
       "    lease_start_month  bedrooms  listing_id  bathrooms  sqft_livable  \\\n",
       "0          2015-12-01         3           1          1             1   \n",
       "1          2016-01-01         3           1          1             1   \n",
       "2          2016-04-01         3           1          1             1   \n",
       "3          2016-05-01         3           5          5             5   \n",
       "4          2016-06-01         2           1          1             1   \n",
       "..                ...       ...         ...        ...           ...   \n",
       "321        2021-08-01         3           3          3             3   \n",
       "322        2021-09-01         2           3          3             3   \n",
       "323        2021-10-01         1           1          1             1   \n",
       "324        2021-11-01         1           1          1             1   \n",
       "325        2022-01-01         2           1          1             1   \n",
       "\n",
       "     monthly_price  lease_start  lease_end  status  \n",
       "0                1            1          1       1  \n",
       "1                1            1          1       1  \n",
       "2                1            1          1       1  \n",
       "3                5            5          5       5  \n",
       "4                1            1          1       1  \n",
       "..             ...          ...        ...     ...  \n",
       "321              3            3          3       3  \n",
       "322              3            3          3       3  \n",
       "323              1            1          1       1  \n",
       "324              1            1          1       1  \n",
       "325              1            1          1       1  \n",
       "\n",
       "[326 rows x 9 columns]"
      ]
     },
     "execution_count": 75,
     "metadata": {},
     "output_type": "execute_result"
    }
   ],
   "source": [
    "leases_by_month"
   ]
  },
  {
   "cell_type": "code",
   "execution_count": 76,
   "id": "8a437b80-72a2-4099-9e22-591587aa70a7",
   "metadata": {},
   "outputs": [
    {
     "data": {
      "image/png": "[encoded data removed]",
      "text/plain": [
       "<Figure size 432x288 with 1 Axes>"
      ]
     },
     "metadata": {},
     "output_type": "display_data"
    }
   ],
   "source": [
    "sns.lineplot(\n",
    "    data=leases_by_month,\n",
    "    x='lease_start_month',\n",
    "    y='listing_id',  # this is actually the count of leases\n",
    "    hue='bedrooms'\n",
    ")\n",
    "plt.show()"
   ]
  },
  {
   "cell_type": "code",
   "execution_count": null,
   "id": "5c22e0e1-ff5a-4440-96d0-614f708d9038",
   "metadata": {},
   "outputs": [],
   "source": []
  }
 ],
 "metadata": {
  "kernelspec": {
   "display_name": "Python 3",
   "language": "python",
   "name": "python3"
  },
  "language_info": {
   "codemirror_mode": {
    "name": "ipython",
    "version": 3
   },
   "file_extension": ".py",
   "mimetype": "text/x-python",
   "name": "python",
   "nbconvert_exporter": "python",
   "pygments_lexer": "ipython3",
   "version": "3.8.2"
  }
 },
 "nbformat": 4,
 "nbformat_minor": 5
}
